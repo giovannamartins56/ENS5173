{
 "cells": [
  {
   "cell_type": "markdown",
   "id": "420d21be-317d-401e-b9a5-0d27088d4c16",
   "metadata": {},
   "source": [
    "## Atividade 03 - Parte 01"
   ]
  },
  {
   "cell_type": "markdown",
   "id": "385509fb-7abc-4b50-9c77-cf2f466ba9bc",
   "metadata": {},
   "source": [
    "## Modelo Gaussiano"
   ]
  },
  {
   "cell_type": "markdown",
   "id": "ffe43c39-a9bc-4c38-b65a-31865dce330c",
   "metadata": {},
   "source": [
    "01. Implementar uma função para determinar a classe de estabilidade de Pasquil para diferentes condições atmosféricas.\n",
    "\n",
    "02. Implementar a função de estimativa de coefiente de dispersão (sigmaYZ) para todas as classes de estabilidade.\n",
    "\n",
    "03. Implementar a função de estimativa de sobrelevação da pluma utilizando os métodos de Davidson-Bryant, Holland e Briggs (quem fizer o método de Briggs ganha um ponto a mais). Deve ser considerado o efeito Tip-Downwash\n",
    "\n",
    "04. Implementar a função do modelo gaussiano\n",
    "\n",
    "05. Realizar simulações com o script criado, utilizando diferentes classes de estabilidade, velocidades do vento, alturas de chaminé. Considere a taxa de emissão que você estimou na primeira atividade. Encontre a altura de chaminé necessária para que as concentrações não violem os padrões da Resolução CONAMA 491.\n",
    "\n",
    "06. Faça figuras e discuta os resultados."
   ]
  },
  {
   "cell_type": "markdown",
   "id": "cfaff810-8652-46f7-9127-4c67f0cb27bd",
   "metadata": {},
   "source": [
    "# Classe de estabilidade de Pasquil para diferentes condições atmosféricas. "
   ]
  },
  {
   "cell_type": "markdown",
   "id": "8ae43cc0-d159-4153-998d-66403642efaf",
   "metadata": {},
   "source": [
    "Aqui nós plotamos em planilha as condições de Radiação, Cobertura de Nuvens (1% - 8%) e Velocidade do vento (1 m/s - 10 m/s) para datas aleatórias, com valores aleatórios. "
   ]
  },
  {
   "cell_type": "code",
   "execution_count": 25,
   "id": "a0d3833f-3f63-471e-aebe-d293bdee80a9",
   "metadata": {},
   "outputs": [
    {
     "name": "stdout",
     "output_type": "stream",
     "text": [
      "                         Data  Radiação (W/m²)  Velocidade do Vento (m/s)  \\\n",
      "0  2024-07-01 19:59:51.231322              586                          4   \n",
      "1  2024-07-04 19:59:51.231322              651                          4   \n",
      "2  2024-07-10 19:59:51.231322              187                          4   \n",
      "3  2024-06-19 19:59:51.231322              274                          8   \n",
      "4  2024-06-22 19:59:51.231322              700                          1   \n",
      "5  2024-07-16 19:59:51.231322              949                          2   \n",
      "6  2024-06-22 19:59:51.231322              777                         10   \n",
      "7  2024-06-26 19:59:51.231322              637                         10   \n",
      "8  2024-06-28 19:59:51.231322              945                          1   \n",
      "9  2024-07-08 19:59:51.231322              172                          5   \n",
      "10 2024-07-10 19:59:51.231322              877                          8   \n",
      "11 2024-07-07 19:59:51.231322              215                          4   \n",
      "12 2024-06-23 19:59:51.231322              855                          3   \n",
      "13 2024-07-12 19:59:51.231322              809                          8   \n",
      "14 2024-06-25 19:59:51.231322              947                          3   \n",
      "15 2024-07-13 19:59:51.231322              531                          1   \n",
      "16 2024-07-13 19:59:51.231322              548                          1   \n",
      "17 2024-07-01 19:59:51.231322              950                          5   \n",
      "18 2024-07-15 19:59:51.231322              199                          6   \n",
      "19 2024-06-20 19:59:51.231322              277                          6   \n",
      "\n",
      "    Cobertura de Nuvem (octas) Classe de Estabilidade  \n",
      "0                            7                      C  \n",
      "1                            1                      D  \n",
      "2                            5                      D  \n",
      "3                            2                      F  \n",
      "4                            8                      A  \n",
      "5                            5                      B  \n",
      "6                            2                      F  \n",
      "7                            3                      F  \n",
      "8                            3                      B  \n",
      "9                            8                      C  \n",
      "10                           1                      F  \n",
      "11                           2                      D  \n",
      "12                           2                      D  \n",
      "13                           8                      E  \n",
      "14                           2                      D  \n",
      "15                           2                      B  \n",
      "16                           4                      B  \n",
      "17                           7                      C  \n",
      "18                           8                      E  \n",
      "19                           4                      F  \n"
     ]
    }
   ],
   "source": [
    "import pandas as pd\n",
    "import numpy as np\n",
    "from datetime import datetime, timedelta\n",
    "\n",
    "def classe_pasquill(velocidade_vento, cobertura_nuvem):\n",
    "    # Definindo os critérios de classificação de estabilidade de Pasquill\n",
    "    criterios = [\n",
    "        (velocidade_vento <= 2) & (cobertura_nuvem >= 6),\n",
    "        (velocidade_vento <= 2) & (cobertura_nuvem <= 5),\n",
    "        (velocidade_vento > 2) & (velocidade_vento <= 5) & (cobertura_nuvem >= 6),\n",
    "        (velocidade_vento > 2) & (velocidade_vento <= 5) & (cobertura_nuvem <= 5),\n",
    "        (velocidade_vento > 5) & (cobertura_nuvem >= 6),\n",
    "        (velocidade_vento > 5) & (cobertura_nuvem <= 5)\n",
    "    ]\n",
    "    \n",
    "    # Classes de estabilidade correspondentes\n",
    "    classes = ['A', 'B', 'C', 'D', 'E', 'F']\n",
    "    \n",
    "    # Determinando a classe de estabilidade para cada linha de dados\n",
    "    classe = np.select(criterios, classes, default=np.nan)\n",
    "    \n",
    "    return classe\n",
    "\n",
    "# Definindo o número de linhas para a planilha\n",
    "num_linhas = 20\n",
    "\n",
    "# Gerando dados aleatórios\n",
    "np.random.seed(0)  # Define a semente para reproduzibilidade dos resultados\n",
    "\n",
    "# Gera datas aleatórias dentro de um intervalo de 30 dias a partir de hoje\n",
    "inicio = datetime.now()\n",
    "datas = [inicio + timedelta(days=np.random.randint(0, 30)) for _ in range(num_linhas)]\n",
    "\n",
    "# Gera radiação solar aleatória entre 100 e 1000 W/m²\n",
    "radiacao = np.random.randint(100, 1001, size=num_linhas)\n",
    "\n",
    "# Gera velocidade do vento aleatória entre 1 e 10 m/s\n",
    "velocidade_vento = np.random.randint(1, 11, size=num_linhas)\n",
    "\n",
    "# Gera cobertura de nuvem aleatória entre 1 e 8 (pode ser interpretada como octas)\n",
    "cobertura_nuvem = np.random.randint(1, 9, size=num_linhas)\n",
    "\n",
    "# Criando o DataFrame com os dados gerados\n",
    "dados = {\n",
    "    'Data': datas,\n",
    "    'Radiação (W/m²)': radiacao,\n",
    "    'Velocidade do Vento (m/s)': velocidade_vento,\n",
    "    'Cobertura de Nuvem (octas)': cobertura_nuvem\n",
    "}\n",
    "\n",
    "df = pd.DataFrame(dados)\n",
    "\n",
    "# Adicionando a coluna de classe de estabilidade de Pasquill\n",
    "df['Classe de Estabilidade'] = classe_pasquill(df['Velocidade do Vento (m/s)'], df['Cobertura de Nuvem (octas)'])\n",
    "\n",
    "# Exibindo a planilha com a classe de estabilidade\n",
    "print(df)\n",
    "\n"
   ]
  },
  {
   "cell_type": "markdown",
   "id": "6f4ecf9e-98e6-4407-88e4-9d65bad85d25",
   "metadata": {},
   "source": [
    "# Função de estimativa de coefiente de dispersão (sigmaYZ) para todas as classes de estabilidade."
   ]
  },
  {
   "cell_type": "code",
   "execution_count": 29,
   "id": "c11c8276-c6ae-4822-99e2-e638d564fdd3",
   "metadata": {},
   "outputs": [],
   "source": [
    "def sigmaYZ(x, classe, urbOrRural):\n",
    "    if urbOrRural == 'urbano':\n",
    "        if classe == 'A' or classe == 'B':\n",
    "            sigmaY = 0.32 * x * (1 + 0.0004 * x) ** (-0.5)\n",
    "            sigmaZ = 0.24 * x * (1 + 0.001 * x) ** 0.5\n",
    "        elif classe == 'C':\n",
    "            sigmaY = 0.22 * x * (1 + 0.0004 * x) ** (-0.5)\n",
    "            sigmaZ = 0.20 * x\n",
    "        elif classe == 'D':\n",
    "            sigmaY = 0.16 * x * (1 + 0.0004 * x) ** (-0.5)\n",
    "            sigmaZ = 0.14 * x * (1 + 0.0003 * x) ** (-0.5)\n",
    "        elif classe == 'E' or classe == 'F':\n",
    "            sigmaY = 0.11 * x * (1 + 0.0004 * x) ** (-0.5)\n",
    "            sigmaZ = 0.08 * x * (1 + 0.0015 * x) ** (-0.5)\n",
    "        else:\n",
    "            raise ValueError('Classe de estabilidade errada')\n",
    "    elif urbOrRural == 'rural':\n",
    "        if classe == 'A':\n",
    "            sigmaY = 0.22 * x * (1 + 0.0001 * x) ** (-0.5)\n",
    "            sigmaZ = 0.20 * x\n",
    "        elif classe == 'B':\n",
    "            sigmaY = 0.16 * x * (1 + 0.0001 * x) ** (-0.5)\n",
    "            sigmaZ = 0.12 * x\n",
    "        elif classe == 'C':\n",
    "            sigmaY = 0.11 * x * (1 + 0.0001 * x) ** (-0.5)\n",
    "            sigmaZ = 0.08 * x * (1 + 0.0002 * x) ** (-0.5)\n",
    "        elif classe == 'D':\n",
    "            sigmaY = 0.08 * x * (1 + 0.0001 * x) ** (-0.5)\n",
    "            sigmaZ = 0.06 * x * (1 + 0.0003 * x) ** (-0.5)\n",
    "        elif classe == 'E':\n",
    "            sigmaY = 0.06 * x * (1 + 0.0001 * x) ** (-0.5)\n",
    "            sigmaZ = 0.03 * x * (1 + 0.0003 * x) ** (-1)\n",
    "        elif classe == 'F':\n",
    "            sigmaY = 0.04 * x * (1 + 0.0001 * x) ** (-0.5)\n",
    "            sigmaZ = 0.016 * x * (1 + 0.0003 * x) ** (-1)\n",
    "        else:\n",
    "            raise ValueError('Classe de estabilidade errada')\n",
    "    else:\n",
    "        raise ValueError('Tipo de ambiente deve ser \"urbano\" ou \"rural\"')\n",
    "    \n",
    "    return sigmaY, sigmaZ"
   ]
  },
  {
   "cell_type": "markdown",
   "id": "51479308-0acc-4850-a927-95a3dfe7ec3d",
   "metadata": {},
   "source": [
    "# Implementar a função de estimativa de sobrelevação da pluma utilizando os métodos de Davidson-Bryant, Holland e Briggs. Deve ser considerado o efeito Tip-Downwash"
   ]
  },
  {
   "cell_type": "markdown",
   "id": "6107e6da-9547-44f8-9399-daab81a5c2cb",
   "metadata": {},
   "source": [
    "DAVIDSON-BRYANT\n",
    "def sobrelevacaoDavidsonBryant(d, Vs, u, deltaT, Ts): \"\"\" Calcula a sobrelevação da pluma usando a fórmula de Davidson-Bryant. \"\"\" delta_h = d * (Vs / u) ** 1.4 * (1 + deltaT / Ts) return delta_h"
   ]
  },
  {
   "cell_type": "markdown",
   "id": "333c535d-4a41-4d43-9ea3-7dfcff5e6b03",
   "metadata": {},
   "source": [
    "HOLLAND def sobrelevacaoHolland(Vs, d, u, p, deltaT, Ts): \"\"\" Calcula a sobrelevação da pluma usando a fórmula empírica de Holland (1953). \"\"\" delta_h_max = (Vs * d / u) * (1.5 + 2.68e-3 * p * (deltaT / Ts) * d) return delta_h_max"
   ]
  },
  {
   "cell_type": "code",
   "execution_count": 33,
   "id": "2e87f5e7-9546-41f5-a215-258ee8daea37",
   "metadata": {},
   "outputs": [],
   "source": [
    "#BRIGS \n",
    "def sobrelevacaoBriggs(Fb, Vs, d, u, deltaT, Ts, He, tipo_atmosfera):\n",
    "    \"\"\"\n",
    "    Calcula a sobrelevação da pluma usando o modelo de Briggs.\n",
    "    \"\"\"\n",
    "    # Determinar se a atmosfera é instável ou estável com base na classe de Pasquill\n",
    "    tipo_atmosfera = 'instavel' if classe in ['A', 'B', 'C', 'D'] else 'estavel'\n",
    "    \n",
    "    if tipo_atmosfera == 'instavel':\n",
    "        if Fb < 55:\n",
    "            deltaTe = 0.0297 * Ts * (Vs / (d ** (2/3)))\n",
    "        else:\n",
    "            deltaTe = 0.00575 * Ts * (Vs ** (2/3) / (d ** (1/3)))\n",
    "    else:\n",
    "        deltaTe = 0.01958 * Ts * (Vs / (d ** (1/3))) * (Fb ** 0.5)\n",
    "\n",
    "    if tipo_atmosfera == 'instavel':\n",
    "        if Fb < 55:\n",
    "            if deltaT < deltaTe:\n",
    "                H = He + 3 * d * (Vs / u)\n",
    "            else:\n",
    "                H = He + 21.425 * (Fb ** (3/4) / (u ** (1/2)))\n",
    "        else:\n",
    "            if deltaT < deltaTe:\n",
    "                H = He + 3 * d * (Vs / u)\n",
    "            else:\n",
    "                H = He + 2.6 * (Fb ** (1/3) / (Ts ** (1/3)))\n",
    "    else:\n",
    "        if deltaT < deltaTe:\n",
    "            H = He + 1.5 * (Fb ** (1/3) / (u ** (1/3)))\n",
    "        else:\n",
    "            H = He + 2.6 * (Fb ** (1/3) / (Ts ** (1/3)))\n",
    "\n",
    "    return H - He"
   ]
  },
  {
   "cell_type": "markdown",
   "id": "fc0a97c2-cdba-4eaf-806f-fe9fc2376081",
   "metadata": {},
   "source": [
    "# Modelo Gaussiano"
   ]
  },
  {
   "cell_type": "code",
   "execution_count": 34,
   "id": "2c3cd1cb-c397-44de-b60e-023fbf58a624",
   "metadata": {},
   "outputs": [],
   "source": [
    "def modeloGaussiano(qs,sigmaY,sigmaZ,u,y,z,H):\n",
    "    termo1 = qs/(2*np.pi*sigmaY*sigmaZ*u)\n",
    "    termo2 = np.exp((-y**2)/(2*sigmaY**2))\n",
    "    termo3 = np.exp((-(z-H)**2)/(2*sigmaZ**2)) + np.exp((-(z+H)**2)/(2*sigmaZ**2))\n",
    "    conc = termo1*termo2*termo3\n",
    "    conc = conc*10**6\n",
    "    return conc"
   ]
  },
  {
   "cell_type": "markdown",
   "id": "a341a694-f7c2-440d-9814-2e62919bc6e9",
   "metadata": {},
   "source": [
    "# teste"
   ]
  },
  {
   "cell_type": "code",
   "execution_count": 37,
   "id": "568ed16c-f7ce-4328-a1a3-3a415fbe31f0",
   "metadata": {},
   "outputs": [
    {
     "name": "stdout",
     "output_type": "stream",
     "text": [
      "Classe de estabilidade de Pasquill: D\n",
      "Sobrelevação da pluma (deltaH): 15.798461538461538\n",
      "Altura efetiva da chaminé (H_eff): 135.79846153846154\n"
     ]
    },
    {
     "data": {
      "image/png": "[encoded data removed]",
      "text/plain": [
       "<Figure size 1000x500 with 3 Axes>"
      ]
     },
     "metadata": {},
     "output_type": "display_data"
    }
   ],
   "source": [
    "import numpy as np\n",
    "import matplotlib.pyplot as plt\n",
    "\n",
    "# Novos parâmetros de entrada\n",
    "qs = 15.5  # g/s (exemplo)\n",
    "u = 6.2  # m/s (exemplo)\n",
    "y = 0.2  # estimando na direção do vento (exemplo)\n",
    "z = 2.0  # altura do nariz (exemplo)\n",
    "H = 120  # m (exemplo)\n",
    "urbOrRural = 'rural'  # alterado para 'rural'\n",
    "\n",
    "# Novos parâmetros para a chaminé\n",
    "d = 3.0  # Diâmetro interno da chaminé em metros (exemplo)\n",
    "Vs = 22  # Velocidade do efluente na saída da chaminé em m/s (exemplo)\n",
    "p = 1015  # Pressão atmosférica em milibares (exemplo)\n",
    "deltaT = 65  # Diferença de temperatura entre o gás na chaminé e a temperatura ambiente em K (exemplo)\n",
    "Ts = 543  # Temperatura do gás na saída da chaminé em K (exemplo)\n",
    "Fb = 1100  # Parâmetro de empuxo (exemplo)\n",
    "\n",
    "# Selecionar aleatoriamente um dia específico para a simulação (fictício)\n",
    "# Simulando valores aleatórios para ilustrar\n",
    "classe = 'D'\n",
    "velocidade_vento = 5.8\n",
    "fluxo_calor_sensivel = 300\n",
    "cobertura_nuvens = 5\n",
    "\n",
    "print(\"Classe de estabilidade de Pasquill:\", classe)\n",
    "\n",
    "# Funções de sobrelevação da pluma e concentração de poluentes\n",
    "def sobrelevacaoBriggs(Fb, Vs, d, u, deltaT, Ts, H, tipo_atmosfera):\n",
    "    # Função de sobrelevação de Briggs (exemplo fictício)\n",
    "    deltaH = 0.2 * Vs + 0.5 * u * (Ts - deltaT) / (H + 10)\n",
    "    return deltaH\n",
    "\n",
    "def modeloGaussiano(qs, sigmaY, sigmaZ, u, y, z, H_eff):\n",
    "    # Modelo Gaussiano para concentração de poluentes (exemplo fictício)\n",
    "    conc = qs * np.exp(-0.5 * ((u * y / sigmaY)**2 + ((z - H_eff) / sigmaZ)**2))\n",
    "    return conc\n",
    "\n",
    "def sigmaYZ(x, classe, urbOrRural):\n",
    "    # Função para estimar sigmaY e sigmaZ baseado na classe de estabilidade e tipo de área\n",
    "    if classe == 'D':\n",
    "        sigmaY = 0.07 * x**0.8\n",
    "        sigmaZ = 0.12 * x**0.9\n",
    "    else:\n",
    "        sigmaY = 0.1 * x**0.7\n",
    "        sigmaZ = 0.15 * x**0.8\n",
    "\n",
    "    if urbOrRural == 'urbano':\n",
    "        sigmaY *= 1.5\n",
    "        sigmaZ *= 1.2\n",
    "\n",
    "    return sigmaY, sigmaZ\n",
    "\n",
    "# Estimativa da sobrelevação da pluma usando o modelo de Briggs\n",
    "deltaH = sobrelevacaoBriggs(Fb, Vs, d, u, deltaT, Ts, H, urbOrRural)\n",
    "H_eff = H + deltaH\n",
    "print(\"Sobrelevação da pluma (deltaH):\", deltaH)\n",
    "print(\"Altura efetiva da chaminé (H_eff):\", H_eff)\n",
    "\n",
    "# Cálculo da concentração de poluentes\n",
    "x = np.linspace(200, 15000, 500)  # Novas distâncias de 200 a 15000 m\n",
    "sigmaY, sigmaZ = sigmaYZ(x, classe, urbOrRural)\n",
    "conc = modeloGaussiano(qs, sigmaY, sigmaZ, u, y, z, H_eff)\n",
    "\n",
    "# Visualização dos resultados\n",
    "plt.figure(figsize=(10, 5))\n",
    "\n",
    "plt.subplot(1, 2, 1)\n",
    "plt.plot(x, conc)\n",
    "plt.xlabel('Distância [m]')\n",
    "plt.ylabel('Concentração [$\\mu$g/m³]')\n",
    "plt.title('Dispersão de poluentes ao longo da distância')\n",
    "\n",
    "plt.subplot(1, 2, 2)\n",
    "X, Y = np.meshgrid(x, np.linspace(-2500, 2500, 500))  # Ajuste do desvio lateral\n",
    "sigmaY, sigmaZ = sigmaYZ(X, classe, urbOrRural)\n",
    "conc2D = modeloGaussiano(qs, sigmaY, sigmaZ, u, Y, z, H_eff)\n",
    "contour = plt.contourf(X, Y, conc2D, cmap='viridis')\n",
    "plt.colorbar(contour, label='Concentração [$\\mu$g/m³]')\n",
    "plt.xlabel('Distância [m]')\n",
    "plt.ylabel('Desvio lateral [m]')\n",
    "plt.title('Pluma de dispersão de poluentes')\n",
    "\n",
    "plt.tight_layout()\n",
    "plt.show()\n"
   ]
  },
  {
   "cell_type": "code",
   "execution_count": null,
   "id": "15f37d5b-8d41-482f-b011-fc020ddd962f",
   "metadata": {},
   "outputs": [],
   "source": []
  }
 ],
 "metadata": {
  "kernelspec": {
   "display_name": "Python 3 (ipykernel)",
   "language": "python",
   "name": "python3"
  },
  "language_info": {
   "codemirror_mode": {
    "name": "ipython",
    "version": 3
   },
   "file_extension": ".py",
   "mimetype": "text/x-python",
   "name": "python",
   "nbconvert_exporter": "python",
   "pygments_lexer": "ipython3",
   "version": "3.11.8"
  }
 },
 "nbformat": 4,
 "nbformat_minor": 5
}

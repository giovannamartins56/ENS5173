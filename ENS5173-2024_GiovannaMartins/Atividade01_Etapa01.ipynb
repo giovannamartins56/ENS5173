{
 "cells": [
  {
   "cell_type": "code",
   "execution_count": 92,
   "id": "80c6f28b-5a99-4ff4-a948-2d839c1cbb5e",
   "metadata": {},
   "outputs": [],
   "source": [
    "# Aula 03/04/2024"
   ]
  },
  {
   "cell_type": "code",
   "execution_count": 3,
   "id": "7a4eaf86-1c67-4ee3-92d8-523d42154643",
   "metadata": {},
   "outputs": [
    {
     "name": "stdout",
     "output_type": "stream",
     "text": [
      "Valor de a = 1\n"
     ]
    },
    {
     "data": {
      "text/plain": [
       "int"
      ]
     },
     "execution_count": 3,
     "metadata": {},
     "output_type": "execute_result"
    }
   ],
   "source": [
    "# Variavel inteira\n",
    "a = 1 \n",
    "print('Valor de a = '+str(a))\n",
    "type(a)"
   ]
  },
  {
   "cell_type": "code",
   "execution_count": 4,
   "id": "d952bf56-d6e5-4470-8b45-9a1d5d0fbaec",
   "metadata": {},
   "outputs": [
    {
     "name": "stdout",
     "output_type": "stream",
     "text": [
      "1.0\n"
     ]
    },
    {
     "data": {
      "text/plain": [
       "float"
      ]
     },
     "execution_count": 4,
     "metadata": {},
     "output_type": "execute_result"
    }
   ],
   "source": [
    "# Variave dupla precisão\n",
    "b = 1.0\n",
    "print(b)\n",
    "type(b)"
   ]
  },
  {
   "cell_type": "code",
   "execution_count": 5,
   "id": "d1baec58-e834-4ffa-8482-1cdea7ece37d",
   "metadata": {},
   "outputs": [
    {
     "name": "stdout",
     "output_type": "stream",
     "text": [
      "1\n"
     ]
    },
    {
     "data": {
      "text/plain": [
       "int"
      ]
     },
     "execution_count": 5,
     "metadata": {},
     "output_type": "execute_result"
    }
   ],
   "source": [
    "# Converter float para int\n",
    "c = int(b)\n",
    "print(c)\n",
    "type(c)"
   ]
  },
  {
   "cell_type": "code",
   "execution_count": 6,
   "id": "8d1ea6f5-eccc-4b5b-adbd-f62c3762399c",
   "metadata": {},
   "outputs": [
    {
     "name": "stdout",
     "output_type": "stream",
     "text": [
      "nan\n"
     ]
    },
    {
     "data": {
      "text/plain": [
       "float"
      ]
     },
     "execution_count": 6,
     "metadata": {},
     "output_type": "execute_result"
    }
   ],
   "source": [
    "#delacrando nan\n",
    "import numpy as np\n",
    "d = np.nan\n",
    "print(d)\n",
    "type(d)"
   ]
  },
  {
   "cell_type": "code",
   "execution_count": 7,
   "id": "a0957b0c-cb04-4bc3-95ce-8a6469533165",
   "metadata": {},
   "outputs": [
    {
     "name": "stdout",
     "output_type": "stream",
     "text": [
      "nan\n",
      "nan\n",
      "1.0\n"
     ]
    }
   ],
   "source": [
    "# Operaçao con NaN\n",
    "e = d*1\n",
    "print(e)\n",
    "e = d+1\n",
    "print(e)\n",
    "e = np.nansum([d,1])\n",
    "print(e)"
   ]
  },
  {
   "cell_type": "code",
   "execution_count": 9,
   "id": "b5151590-0def-439d-9137-1a53ef21024b",
   "metadata": {},
   "outputs": [
    {
     "name": "stdout",
     "output_type": "stream",
     "text": [
      "Giovanna\n",
      "Martins\n",
      "GiovannaMartins\n",
      "Giovanna Martins\n"
     ]
    }
   ],
   "source": [
    "# Declaração de variavel texto\n",
    "g = 'Giovanna'\n",
    "m = \"Martins\"\n",
    "print(g)\n",
    "print(m)\n",
    "print(g+m)\n",
    "print(g+' '+m)"
   ]
  },
  {
   "cell_type": "code",
   "execution_count": 10,
   "id": "e1258093-fb98-409f-966c-40c2cacc7b57",
   "metadata": {},
   "outputs": [
    {
     "data": {
      "text/plain": [
       "True"
      ]
     },
     "execution_count": 10,
     "metadata": {},
     "output_type": "execute_result"
    }
   ],
   "source": [
    "a == 1"
   ]
  },
  {
   "cell_type": "code",
   "execution_count": 11,
   "id": "f9ce37ba-6ab1-4f6c-a2e8-371e8aa3a681",
   "metadata": {},
   "outputs": [
    {
     "name": "stdout",
     "output_type": "stream",
     "text": [
      "True\n"
     ]
    },
    {
     "data": {
      "text/plain": [
       "bool"
      ]
     },
     "execution_count": 11,
     "metadata": {},
     "output_type": "execute_result"
    }
   ],
   "source": [
    "h = (a==1)\n",
    "print(h)\n",
    "type(h)"
   ]
  },
  {
   "cell_type": "code",
   "execution_count": 12,
   "id": "cc977b22-86e3-48a1-983e-2e47e03e8b28",
   "metadata": {},
   "outputs": [
    {
     "name": "stdout",
     "output_type": "stream",
     "text": [
      "False\n"
     ]
    },
    {
     "data": {
      "text/plain": [
       "bool"
      ]
     },
     "execution_count": 12,
     "metadata": {},
     "output_type": "execute_result"
    }
   ],
   "source": [
    "h = (a==2)\n",
    "print(h)\n",
    "type(h)"
   ]
  },
  {
   "cell_type": "code",
   "execution_count": 14,
   "id": "00f4f9b2-b586-4479-a43c-956f806c300a",
   "metadata": {},
   "outputs": [
    {
     "data": {
      "text/plain": [
       "bool"
      ]
     },
     "execution_count": 14,
     "metadata": {},
     "output_type": "execute_result"
    }
   ],
   "source": [
    "i = True\n",
    "type(i)"
   ]
  },
  {
   "cell_type": "code",
   "execution_count": 15,
   "id": "44c1c0e5-c7cd-432f-bf93-54dd128fe3e7",
   "metadata": {},
   "outputs": [
    {
     "data": {
      "text/plain": [
       "str"
      ]
     },
     "execution_count": 15,
     "metadata": {},
     "output_type": "execute_result"
    }
   ],
   "source": [
    "ii = 'True'\n",
    "type(ii)"
   ]
  },
  {
   "cell_type": "code",
   "execution_count": 16,
   "id": "884ed2fd-0966-4140-80d4-1c6bcef804aa",
   "metadata": {},
   "outputs": [
    {
     "data": {
      "text/plain": [
       "True"
      ]
     },
     "execution_count": 16,
     "metadata": {},
     "output_type": "execute_result"
    }
   ],
   "source": [
    "# Operaçao ==\n",
    "a==b"
   ]
  },
  {
   "cell_type": "code",
   "execution_count": 17,
   "id": "730c6190-a306-4461-8214-494c11abedde",
   "metadata": {},
   "outputs": [
    {
     "data": {
      "text/plain": [
       "False"
      ]
     },
     "execution_count": 17,
     "metadata": {},
     "output_type": "execute_result"
    }
   ],
   "source": [
    "# Operaçao ><\n",
    "a>b"
   ]
  },
  {
   "cell_type": "code",
   "execution_count": 18,
   "id": "2822967b-1530-4c22-ae4e-9af7fe2ee5c9",
   "metadata": {},
   "outputs": [
    {
     "data": {
      "text/plain": [
       "False"
      ]
     },
     "execution_count": 18,
     "metadata": {},
     "output_type": "execute_result"
    }
   ],
   "source": [
    "# Operaçao !=\n",
    "a!=b"
   ]
  },
  {
   "cell_type": "code",
   "execution_count": 19,
   "id": "3beb08c4-9403-469b-b868-0f25e222be21",
   "metadata": {},
   "outputs": [
    {
     "data": {
      "text/plain": [
       "True"
      ]
     },
     "execution_count": 19,
     "metadata": {},
     "output_type": "execute_result"
    }
   ],
   "source": [
    "# Operaçao >= ou <=\n",
    "a>=b"
   ]
  },
  {
   "cell_type": "code",
   "execution_count": 20,
   "id": "16768d6c-0e6c-444e-9337-cbd6671f5646",
   "metadata": {},
   "outputs": [
    {
     "data": {
      "text/plain": [
       "2.0"
      ]
     },
     "execution_count": 20,
     "metadata": {},
     "output_type": "execute_result"
    }
   ],
   "source": [
    "# Soma\n",
    "a+b"
   ]
  },
  {
   "cell_type": "code",
   "execution_count": 21,
   "id": "1a808cc3-9167-4a0e-82ee-dbe56f55d25d",
   "metadata": {},
   "outputs": [
    {
     "name": "stdout",
     "output_type": "stream",
     "text": [
      "2.0\n"
     ]
    }
   ],
   "source": [
    "# Soma e atribui valor\n",
    "ab = a+b\n",
    "print(ab)"
   ]
  },
  {
   "cell_type": "code",
   "execution_count": 26,
   "id": "e8196e38-7232-4a1e-bc1d-646692b57643",
   "metadata": {},
   "outputs": [
    {
     "name": "stdout",
     "output_type": "stream",
     "text": [
      "Não use l como nome de variável\n",
      "1.0\n"
     ]
    }
   ],
   "source": [
    "# Multiplicaçao\n",
    "li = a*b # Nao use L como variável\n",
    "print(\"Não use l como nome de variável\")\n",
    "j = a*b\n",
    "print(j)"
   ]
  },
  {
   "cell_type": "code",
   "execution_count": 27,
   "id": "55448857-538d-4bdf-8099-390e6bac2902",
   "metadata": {},
   "outputs": [
    {
     "data": {
      "text/plain": [
       "1.0"
      ]
     },
     "execution_count": 27,
     "metadata": {},
     "output_type": "execute_result"
    }
   ],
   "source": [
    "# Divisao\n",
    "a/b"
   ]
  },
  {
   "cell_type": "code",
   "execution_count": 28,
   "id": "18ec092c-2298-4b2f-9ebf-5ff766809e52",
   "metadata": {},
   "outputs": [
    {
     "data": {
      "text/plain": [
       "25"
      ]
     },
     "execution_count": 28,
     "metadata": {},
     "output_type": "execute_result"
    }
   ],
   "source": [
    "# Potencia\n",
    "5**2"
   ]
  },
  {
   "cell_type": "code",
   "execution_count": 29,
   "id": "99a71fcb-9d0c-476c-9236-8357c4e215ec",
   "metadata": {},
   "outputs": [
    {
     "data": {
      "text/plain": [
       "22026.465794806718"
      ]
     },
     "execution_count": 29,
     "metadata": {},
     "output_type": "execute_result"
    }
   ],
   "source": [
    "# Operaçoes matematicas com a biblioteca math\n",
    "import math\n",
    "math.exp(10)"
   ]
  },
  {
   "cell_type": "code",
   "execution_count": 30,
   "id": "79dca0a2-12ba-4e33-862f-d451263dd109",
   "metadata": {},
   "outputs": [
    {
     "data": {
      "text/plain": [
       "1.0"
      ]
     },
     "execution_count": 30,
     "metadata": {},
     "output_type": "execute_result"
    }
   ],
   "source": [
    "math.exp(0)"
   ]
  },
  {
   "cell_type": "code",
   "execution_count": 31,
   "id": "cf37dad2-9a8c-4d28-8c24-eb34ac042a3a",
   "metadata": {},
   "outputs": [
    {
     "data": {
      "text/plain": [
       "2.718281828459045"
      ]
     },
     "execution_count": 31,
     "metadata": {},
     "output_type": "execute_result"
    }
   ],
   "source": [
    "math.exp(a)"
   ]
  },
  {
   "cell_type": "code",
   "execution_count": 32,
   "id": "dacd805a-9a6b-4312-8a3b-9f1d3562bcde",
   "metadata": {},
   "outputs": [
    {
     "data": {
      "text/plain": [
       "4.5399929762484854e-05"
      ]
     },
     "execution_count": 32,
     "metadata": {},
     "output_type": "execute_result"
    }
   ],
   "source": [
    "math.exp(-10)"
   ]
  },
  {
   "cell_type": "code",
   "execution_count": 34,
   "id": "a7271706-54ab-44eb-87a0-fc3878654949",
   "metadata": {},
   "outputs": [
    {
     "data": {
      "text/plain": [
       "0.0"
      ]
     },
     "execution_count": 34,
     "metadata": {},
     "output_type": "execute_result"
    }
   ],
   "source": [
    "import math as mt\n",
    "mt.log(c)"
   ]
  },
  {
   "cell_type": "code",
   "execution_count": 35,
   "id": "7eee8289-edd9-428b-a654-813e4dd62f96",
   "metadata": {},
   "outputs": [
    {
     "data": {
      "text/plain": [
       "2.0"
      ]
     },
     "execution_count": 35,
     "metadata": {},
     "output_type": "execute_result"
    }
   ],
   "source": [
    "mt.log10(100)"
   ]
  },
  {
   "cell_type": "code",
   "execution_count": 36,
   "id": "6d5c65f8-3330-43bd-a29a-15830e956e32",
   "metadata": {},
   "outputs": [],
   "source": [
    "## Listas"
   ]
  },
  {
   "cell_type": "code",
   "execution_count": 39,
   "id": "8c7a03cc-4dbb-4ef8-bd43-e2ecb2ca0809",
   "metadata": {},
   "outputs": [
    {
     "name": "stdout",
     "output_type": "stream",
     "text": [
      "[1, 2, 3]\n"
     ]
    }
   ],
   "source": [
    "myfirstlist = [1,2,3]\n",
    "print(myfirstlist)"
   ]
  },
  {
   "cell_type": "code",
   "execution_count": 40,
   "id": "4dd9ab83-54f1-450c-bdcd-8a307c29684a",
   "metadata": {},
   "outputs": [
    {
     "name": "stdout",
     "output_type": "stream",
     "text": [
      "1\n",
      "3\n"
     ]
    }
   ],
   "source": [
    "# acessando valores da lista pelo index\n",
    "print(myfirstlist[0])\n",
    "print(myfirstlist[2])"
   ]
  },
  {
   "cell_type": "code",
   "execution_count": 41,
   "id": "c92e60be-bd1b-4d6e-89dd-838b8b3086a9",
   "metadata": {},
   "outputs": [
    {
     "data": {
      "text/plain": [
       "False"
      ]
     },
     "execution_count": 41,
     "metadata": {},
     "output_type": "execute_result"
    }
   ],
   "source": [
    "myfirstlist==a"
   ]
  },
  {
   "cell_type": "code",
   "execution_count": 42,
   "id": "c9b81481-fee5-4f43-820c-7255f280282d",
   "metadata": {},
   "outputs": [
    {
     "data": {
      "text/plain": [
       "True"
      ]
     },
     "execution_count": 42,
     "metadata": {},
     "output_type": "execute_result"
    }
   ],
   "source": [
    "myfirstlist[0]==a"
   ]
  },
  {
   "cell_type": "code",
   "execution_count": 43,
   "id": "73e62d1b-e618-4c28-a656-f2c693ea18ba",
   "metadata": {},
   "outputs": [
    {
     "name": "stdout",
     "output_type": "stream",
     "text": [
      "[1, 1, 'c']\n"
     ]
    }
   ],
   "source": [
    "myseclist = [1,a,'c']\n",
    "print(myseclist)"
   ]
  },
  {
   "cell_type": "code",
   "execution_count": 44,
   "id": "3de5f450-19cd-4ba1-a4eb-80dc3c5af6ab",
   "metadata": {},
   "outputs": [
    {
     "data": {
      "text/plain": [
       "list"
      ]
     },
     "execution_count": 44,
     "metadata": {},
     "output_type": "execute_result"
    }
   ],
   "source": [
    "type(myseclist)"
   ]
  },
  {
   "cell_type": "code",
   "execution_count": 46,
   "id": "f2ba1c0c-d854-4537-a28d-4be041284da7",
   "metadata": {},
   "outputs": [
    {
     "data": {
      "text/plain": [
       "str"
      ]
     },
     "execution_count": 46,
     "metadata": {},
     "output_type": "execute_result"
    }
   ],
   "source": [
    "type(myseclist[2])"
   ]
  },
  {
   "cell_type": "code",
   "execution_count": 47,
   "id": "a2f9c84e-05ca-4f09-b365-b208a583e294",
   "metadata": {},
   "outputs": [
    {
     "data": {
      "text/plain": [
       "int"
      ]
     },
     "execution_count": 47,
     "metadata": {},
     "output_type": "execute_result"
    }
   ],
   "source": [
    "type(myseclist[1])"
   ]
  },
  {
   "cell_type": "code",
   "execution_count": 48,
   "id": "28b823d6-67a8-49e0-ac32-783962c22889",
   "metadata": {},
   "outputs": [],
   "source": [
    "## caminhos = path"
   ]
  },
  {
   "cell_type": "code",
   "execution_count": 60,
   "id": "b8fb4662-f035-421c-9c62-08d6025480c9",
   "metadata": {},
   "outputs": [
    {
     "name": "stdout",
     "output_type": "stream",
     "text": [
      "C:\\Users\\Giovanna\\Desktop\\24.1\\Pol. ATm\n"
     ]
    }
   ],
   "source": [
    "path = r\"C:\\Users\\Giovanna\\Desktop\\24.1\\Pol. ATm\"\n",
    "print(path)"
   ]
  },
  {
   "cell_type": "code",
   "execution_count": 61,
   "id": "264379c6-5733-45ec-91bd-5ea39de11871",
   "metadata": {},
   "outputs": [
    {
     "data": {
      "text/plain": [
       "['Notas aulas Poluicao.txt', 'Passo a passo', 'Polui-ao01']"
      ]
     },
     "execution_count": 61,
     "metadata": {},
     "output_type": "execute_result"
    }
   ],
   "source": [
    "import os\n",
    "# listas arquivos na pasta\n",
    "os.listdir(path)"
   ]
  },
  {
   "cell_type": "code",
   "execution_count": 62,
   "id": "94ff101c-75a8-412c-9d0d-bd2e21a19563",
   "metadata": {},
   "outputs": [
    {
     "name": "stdout",
     "output_type": "stream",
     "text": [
      "C:\\Users\\Giovanna\\Desktop\\24.1\\Pol. ATm\\Polui-ao01\n"
     ]
    }
   ],
   "source": [
    "path = r\"C:\\Users\\Giovanna\\Desktop\\24.1\\Pol. ATm\\Polui-ao01\"\n",
    "print(path)"
   ]
  },
  {
   "cell_type": "code",
   "execution_count": 63,
   "id": "df821ee6-2018-4c2a-9b2d-1084e9628d7d",
   "metadata": {},
   "outputs": [
    {
     "data": {
      "text/plain": [
       "['.git',\n",
       " '.gitignore',\n",
       " 'Aula01.ipynb',\n",
       " 'ENS5173-2024_GiovannaMartins',\n",
       " 'imputs',\n",
       " 'README.md',\n",
       " 'Scripts',\n",
       " 'venv']"
      ]
     },
     "execution_count": 63,
     "metadata": {},
     "output_type": "execute_result"
    }
   ],
   "source": [
    "import os\n",
    "os.listdir(path)"
   ]
  },
  {
   "cell_type": "code",
   "execution_count": 64,
   "id": "5e266c85-84c1-494c-854c-d14731e6d99a",
   "metadata": {},
   "outputs": [
    {
     "data": {
      "text/plain": [
       "'.git'"
      ]
     },
     "execution_count": 64,
     "metadata": {},
     "output_type": "execute_result"
    }
   ],
   "source": [
    "# selecionar primeiro arquivo listado\n",
    "os.listdir(path)[0]"
   ]
  },
  {
   "cell_type": "code",
   "execution_count": 65,
   "id": "98c7f78f-82df-4e25-a3c2-ec3f8729cca9",
   "metadata": {},
   "outputs": [
    {
     "data": {
      "text/plain": [
       "'C:\\\\Users\\\\Giovanna\\\\Desktop\\\\24.1\\\\Pol. ATm\\\\Polui-ao01/.git'"
      ]
     },
     "execution_count": 65,
     "metadata": {},
     "output_type": "execute_result"
    }
   ],
   "source": [
    "# Concatenando caminhos \n",
    "path+\"/\"+os.listdir(path)[0]"
   ]
  },
  {
   "cell_type": "code",
   "execution_count": 66,
   "id": "7a966af7-a19f-48b4-9148-182b8ee608c1",
   "metadata": {},
   "outputs": [
    {
     "data": {
      "text/plain": [
       "['COMMIT_EDITMSG',\n",
       " 'config',\n",
       " 'description',\n",
       " 'FETCH_HEAD',\n",
       " 'HEAD',\n",
       " 'hooks',\n",
       " 'index',\n",
       " 'info',\n",
       " 'logs',\n",
       " 'objects',\n",
       " 'packed-refs',\n",
       " 'refs']"
      ]
     },
     "execution_count": 66,
     "metadata": {},
     "output_type": "execute_result"
    }
   ],
   "source": [
    "# listando caminho concatenado\n",
    "os.listdir(path+\"/\"+os.listdir(path)[0])"
   ]
  },
  {
   "cell_type": "code",
   "execution_count": 67,
   "id": "fe8321fa-5e2b-46f2-9e53-ae3729a861e3",
   "metadata": {},
   "outputs": [
    {
     "data": {
      "text/plain": [
       "'C:\\\\Users\\\\Giovanna\\\\Desktop\\\\24.1\\\\Pol. ATm\\\\Polui-ao01\\\\ENS5173-2024_GiovannaMartins\\\\venv\\\\Scripts'"
      ]
     },
     "execution_count": 67,
     "metadata": {},
     "output_type": "execute_result"
    }
   ],
   "source": [
    "# diretorio que estou trabalhando \n",
    "os.getcwd()"
   ]
  },
  {
   "cell_type": "code",
   "execution_count": 71,
   "id": "5419f178-80f2-479c-b764-82b0ecf5b308",
   "metadata": {},
   "outputs": [],
   "source": [
    "# mudo de diretorio para o caminho\n",
    "os.chdir('C:\\\\Users\\Giovanna\\Desktop\\\\24.1')"
   ]
  },
  {
   "cell_type": "code",
   "execution_count": 72,
   "id": "b5800b70-1409-443f-8af7-93fce21e233d",
   "metadata": {},
   "outputs": [
    {
     "data": {
      "text/plain": [
       "'C:\\\\Users\\\\Giovanna\\\\Desktop\\\\24.1'"
      ]
     },
     "execution_count": 72,
     "metadata": {},
     "output_type": "execute_result"
    }
   ],
   "source": [
    "os.getcwd()"
   ]
  },
  {
   "cell_type": "code",
   "execution_count": 75,
   "id": "0c31b696-efb8-48d5-917f-8086275fd941",
   "metadata": {},
   "outputs": [
    {
     "name": "stdout",
     "output_type": "stream",
     "text": [
      "diretorio ja existe\n"
     ]
    }
   ],
   "source": [
    "# Criando direetorio\n",
    "new_path = os.getcwd()+'/test'\n",
    "\n",
    "if os.path.isdir(new_path):\n",
    "    print('diretorio ja existe')\n",
    "else: \n",
    "    print('Criando diretorio'+new_path)\n",
    "    os.mkdir(new_path)"
   ]
  },
  {
   "cell_type": "code",
   "execution_count": 78,
   "id": "c940a599-1baf-4bd6-8056-283bbd869b89",
   "metadata": {},
   "outputs": [
    {
     "name": "stdout",
     "output_type": "stream",
     "text": [
      "Criando diretorioC:\\Users\\Giovanna\\Desktop\\24.1/test2\n"
     ]
    }
   ],
   "source": [
    "# Criando diretorio\n",
    "new_path = os.getcwd()+'/test2'\n",
    "\n",
    "if os.path.isdir(new_path):\n",
    "    print('diretorio ja existe')\n",
    "    # criando um arquivo texto\n",
    "    with open(new_path+\"/copy.txt\", \"w\") as file:\n",
    "        file.write(\"Your text goes here\")\n",
    "else: \n",
    "    print('Criando diretorio'+new_path)\n",
    "    os.mkdir(new_path)\n",
    "    with open(new_path+\"/copy.txt\", \"w\") as file:\n",
    "        file.write(\"Your text goes here\")"
   ]
  },
  {
   "cell_type": "code",
   "execution_count": 79,
   "id": "a15a6745-aa5f-4dfe-806d-bbe4898d12ff",
   "metadata": {},
   "outputs": [],
   "source": [
    "## Numpy arrays e Pandas dataframes"
   ]
  },
  {
   "cell_type": "code",
   "execution_count": 80,
   "id": "34fdd273-a33d-4fed-b892-24e9555bf033",
   "metadata": {},
   "outputs": [
    {
     "data": {
      "text/plain": [
       "numpy.ndarray"
      ]
     },
     "execution_count": 80,
     "metadata": {},
     "output_type": "execute_result"
    }
   ],
   "source": [
    "import numpy as np\n",
    "# criando uma variavel numpy\n",
    "n = np.array(0)\n",
    "type(n)"
   ]
  },
  {
   "cell_type": "code",
   "execution_count": 81,
   "id": "0fd9bdd2-c62a-4e15-9f7e-6e4c5128bbac",
   "metadata": {},
   "outputs": [
    {
     "name": "stdout",
     "output_type": "stream",
     "text": [
      "[ 1  2  3 10 20 55]\n"
     ]
    }
   ],
   "source": [
    "# criando uma variavel numpy a partir de uma lista\n",
    "mythirdlist=[1,2,3,10,20,55]\n",
    "n = np.array(mythirdlist)\n",
    "print(n)"
   ]
  },
  {
   "cell_type": "code",
   "execution_count": 83,
   "id": "2e59c002-a488-47ea-8205-983bf4786f11",
   "metadata": {},
   "outputs": [
    {
     "name": "stdout",
     "output_type": "stream",
     "text": [
      "[[0.90238839 0.82312059 0.10508614 0.60684847 0.05786522 0.00913127\n",
      "  0.84752109 0.27712998 0.81160745 0.09971359]\n",
      " [0.42954482 0.66173699 0.68197844 0.73798064 0.91001241 0.64333999\n",
      "  0.07257396 0.58610294 0.57389128 0.25023837]\n",
      " [0.99292488 0.45916758 0.94876493 0.98592464 0.79210952 0.67321167\n",
      "  0.00747343 0.02421425 0.23176053 0.38861604]\n",
      " [0.83460405 0.37225249 0.04379658 0.99794555 0.63749563 0.3346889\n",
      "  0.37056492 0.13644027 0.57569438 0.98203547]\n",
      " [0.42896877 0.39849918 0.26348491 0.49024317 0.73493889 0.10514302\n",
      "  0.30055199 0.8876593  0.7398366  0.38605423]\n",
      " [0.69054228 0.59778749 0.66716331 0.30473116 0.37073879 0.2273778\n",
      "  0.25398823 0.69322665 0.77035036 0.65427343]\n",
      " [0.57073252 0.33558486 0.49518261 0.71824642 0.47450868 0.25413778\n",
      "  0.59159074 0.04088719 0.02018349 0.50310254]\n",
      " [0.09369297 0.53344009 0.07969121 0.1408559  0.29588074 0.81290523\n",
      "  0.36538828 0.49759003 0.31631674 0.22311761]\n",
      " [0.76505751 0.88609519 0.67847992 0.05845968 0.40690549 0.83416078\n",
      "  0.82909731 0.21324263 0.40499238 0.46769416]\n",
      " [0.63195023 0.32931446 0.80148722 0.77952805 0.18941986 0.46437248\n",
      "  0.34097258 0.18979793 0.31343132 0.16636787]]\n",
      "(10, 10)\n"
     ]
    }
   ],
   "source": [
    "# criando uma matriz de 10x10 de numeros aleatorios de 0 e 1\n",
    "n = np.random.rand(10,10)\n",
    "print(n)\n",
    "# dimensoes da matrix\n",
    "print(n.shape)"
   ]
  },
  {
   "cell_type": "code",
   "execution_count": 84,
   "id": "c5771298-f168-429e-ad23-69f319d4529e",
   "metadata": {},
   "outputs": [
    {
     "data": {
      "text/plain": [
       "array([0.90238839, 0.82312059, 0.10508614, 0.60684847, 0.05786522,\n",
       "       0.00913127, 0.84752109, 0.27712998, 0.81160745, 0.09971359])"
      ]
     },
     "execution_count": 84,
     "metadata": {},
     "output_type": "execute_result"
    }
   ],
   "source": [
    "# Acessando valores da matriz \n",
    "n[0,:]"
   ]
  },
  {
   "cell_type": "code",
   "execution_count": 85,
   "id": "50f78e2c-17ac-4b15-b478-d3bb476968a7",
   "metadata": {},
   "outputs": [
    {
     "data": {
      "text/plain": [
       "array([0.90238839, 0.42954482, 0.99292488, 0.83460405, 0.42896877,\n",
       "       0.69054228, 0.57073252, 0.09369297, 0.76505751, 0.63195023])"
      ]
     },
     "execution_count": 85,
     "metadata": {},
     "output_type": "execute_result"
    }
   ],
   "source": [
    "n[:,0]"
   ]
  },
  {
   "cell_type": "code",
   "execution_count": 86,
   "id": "3dcef134-0b18-4725-a0e5-3a3550ad229d",
   "metadata": {},
   "outputs": [
    {
     "data": {
      "text/plain": [
       "array([[0.82312059, 0.10508614, 0.60684847, 0.05786522],\n",
       "       [0.66173699, 0.68197844, 0.73798064, 0.91001241],\n",
       "       [0.45916758, 0.94876493, 0.98592464, 0.79210952],\n",
       "       [0.37225249, 0.04379658, 0.99794555, 0.63749563],\n",
       "       [0.39849918, 0.26348491, 0.49024317, 0.73493889],\n",
       "       [0.59778749, 0.66716331, 0.30473116, 0.37073879],\n",
       "       [0.33558486, 0.49518261, 0.71824642, 0.47450868],\n",
       "       [0.53344009, 0.07969121, 0.1408559 , 0.29588074],\n",
       "       [0.88609519, 0.67847992, 0.05845968, 0.40690549],\n",
       "       [0.32931446, 0.80148722, 0.77952805, 0.18941986]])"
      ]
     },
     "execution_count": 86,
     "metadata": {},
     "output_type": "execute_result"
    }
   ],
   "source": [
    "n[:,1:5]"
   ]
  },
  {
   "cell_type": "code",
   "execution_count": 87,
   "id": "f183453b-c8f1-4d1c-9c91-a43de5e31fab",
   "metadata": {},
   "outputs": [
    {
     "data": {
      "text/plain": [
       "array([0.82312059, 0.10508614, 0.60684847, 0.05786522])"
      ]
     },
     "execution_count": 87,
     "metadata": {},
     "output_type": "execute_result"
    }
   ],
   "source": [
    "n[0,1:5]"
   ]
  },
  {
   "cell_type": "code",
   "execution_count": 88,
   "id": "4f5710ed-0d3b-45c2-9847-df3262bdefcd",
   "metadata": {},
   "outputs": [
    {
     "data": {
      "text/plain": [
       "0.09971359216918108"
      ]
     },
     "execution_count": 88,
     "metadata": {},
     "output_type": "execute_result"
    }
   ],
   "source": [
    "n[0,-1]"
   ]
  },
  {
   "cell_type": "code",
   "execution_count": 89,
   "id": "11115744-2782-425a-887a-6065dcc8e53d",
   "metadata": {},
   "outputs": [
    {
     "data": {
      "text/plain": [
       "array([0.05786522, 0.00913127, 0.84752109, 0.27712998, 0.81160745])"
      ]
     },
     "execution_count": 89,
     "metadata": {},
     "output_type": "execute_result"
    }
   ],
   "source": [
    "n[0,4:-1]"
   ]
  },
  {
   "cell_type": "code",
   "execution_count": 90,
   "id": "d3ea3eec-f2cf-485c-a932-48bce6aee478",
   "metadata": {},
   "outputs": [
    {
     "data": {
      "text/plain": [
       "array([0.05786522, 0.00913127, 0.84752109, 0.27712998, 0.81160745,\n",
       "       0.09971359])"
      ]
     },
     "execution_count": 90,
     "metadata": {},
     "output_type": "execute_result"
    }
   ],
   "source": [
    "n[0,4:]"
   ]
  },
  {
   "cell_type": "code",
   "execution_count": 91,
   "id": "7a933d65-3d2f-4154-96b5-0e6044cb51f3",
   "metadata": {},
   "outputs": [
    {
     "name": "stdout",
     "output_type": "stream",
     "text": [
      "[[ 1.50672765  1.41478535 -0.64353698  1.10996176 -1.24020078 -3.08661285\n",
      "   1.44399835  0.32616927  1.40069942 -0.69601537]\n",
      " [ 0.76440872  1.19655081  1.22668068  1.30560022  1.51514087  1.16835598\n",
      "  -1.01371123  1.07517807  1.0541226   0.22409659]\n",
      " [ 1.60233765  0.83109787  1.5568437   1.59526256  1.3763823   1.21374243\n",
      "  -3.2869628  -2.11137586  0.14738726  0.66427445]\n",
      " [ 1.42864006  0.621255   -1.51876165  1.60738135  1.15923006  0.51488409\n",
      "   0.61671127 -0.38243042  1.05725956  1.59131006]\n",
      " [ 0.76306676  0.68938806  0.27567875  0.89658417  1.30146998 -0.64299589\n",
      "   0.40730339  1.49027063  1.30811198  0.65766049]\n",
      " [ 1.23915984  1.09491795  1.2047175   0.42111257  0.61718039  0.1282956\n",
      "   0.23897055  1.24303964  1.34852806  1.18520799]\n",
      " [ 1.04860329  0.5175575   0.90660924  1.27849535  0.86396255  0.23955918\n",
      "   1.08449771 -1.58750056 -2.29345266  0.92247664]\n",
      " [-0.75829416  0.9810294  -0.92015802 -0.35057999  0.39163909  1.40229716\n",
      "   0.6026432   0.91145914  0.4584267   0.10938165]\n",
      " [ 1.34163364  1.48850701  1.22153751 -1.22998007  0.71026357  1.4281088\n",
      "   1.42202017  0.06411327  0.70555088  0.84949722]\n",
      " [ 1.15049327  0.49869574  1.38815166  1.36037131 -0.05435132  0.84236962\n",
      "   0.53348468 -0.05235738  0.44926288 -0.18411596]]\n"
     ]
    }
   ],
   "source": [
    "an = np.log(n*5)\n",
    "print(an)"
   ]
  },
  {
   "cell_type": "code",
   "execution_count": null,
   "id": "ebacf93f-eb88-41e5-aacb-9b9bcb29d181",
   "metadata": {},
   "outputs": [],
   "source": []
  }
 ],
 "metadata": {
  "kernelspec": {
   "display_name": "Python 3 (ipykernel)",
   "language": "python",
   "name": "python3"
  },
  "language_info": {
   "codemirror_mode": {
    "name": "ipython",
    "version": 3
   },
   "file_extension": ".py",
   "mimetype": "text/x-python",
   "name": "python",
   "nbconvert_exporter": "python",
   "pygments_lexer": "ipython3",
   "version": "3.11.8"
  }
 },
 "nbformat": 4,
 "nbformat_minor": 5
}

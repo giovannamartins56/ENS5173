{
 "cells": [
  {
   "cell_type": "markdown",
   "id": "ad68196e-3e57-46db-be6a-7ed497e46d9e",
   "metadata": {},
   "source": [
    "# Aula - 03/04/2024 - Comandos Básicos no Python\n",
    "\n",
    "Nesta aula aprenderemos a importar pacotes e os tipos de variaveis \\**\n",
    "\n",
    "Desenvolvedor: Giovanna Martins"
   ]
  },
  {
   "cell_type": "markdown",
   "id": "cb8b45be-a4b8-43ce-a93c-9a19cbd881c0",
   "metadata": {},
   "source": [
    "## Tipos de variáveis "
   ]
  },
  {
   "cell_type": "code",
   "execution_count": 11,
   "id": "7f582610-df89-4403-bf9f-42966d8e6e62",
   "metadata": {},
   "outputs": [
    {
     "name": "stdout",
     "output_type": "stream",
     "text": [
      "a =1\n",
      "<class 'int'>\n"
     ]
    }
   ],
   "source": [
    "# Criando variaveis inteiras\n",
    "a = 1\n",
    "print('a ='+str(a))\n",
    "print(type(a))"
   ]
  },
  {
   "cell_type": "code",
   "execution_count": 15,
   "id": "1dba1bec-6e45-4a25-9129-f79e353a09da",
   "metadata": {},
   "outputs": [
    {
     "name": "stdout",
     "output_type": "stream",
     "text": [
      "Salve o Corinthians\n",
      "<class 'str'>\n"
     ]
    }
   ],
   "source": [
    "# Criando Variaveis String\n",
    "b='Salve o '\n",
    "c='Corinthians'\n",
    "print(b+c)\n",
    "print(type(b))"
   ]
  },
  {
   "cell_type": "code",
   "execution_count": null,
   "id": "7cd10cdf-9867-4553-bbde-75a073a12930",
   "metadata": {},
   "outputs": [],
   "source": []
  }
 ],
 "metadata": {
  "kernelspec": {
   "display_name": "Python 3 (ipykernel)",
   "language": "python",
   "name": "python3"
  },
  "language_info": {
   "codemirror_mode": {
    "name": "ipython",
    "version": 3
   },
   "file_extension": ".py",
   "mimetype": "text/x-python",
   "name": "python",
   "nbconvert_exporter": "python",
   "pygments_lexer": "ipython3",
   "version": "3.11.8"
  }
 },
 "nbformat": 4,
 "nbformat_minor": 5
}
